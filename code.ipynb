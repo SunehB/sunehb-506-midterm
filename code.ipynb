{
  "nbformat": 4,
  "nbformat_minor": 0,
  "metadata": {
    "colab": {
      "provenance": [],
      "gpuType": "T4"
    },
    "kernelspec": {
      "name": "python3",
      "display_name": "Python 3"
    },
    "language_info": {
      "name": "python"
    },
    "accelerator": "GPU"
  },
  "cells": [
    {
      "cell_type": "code",
      "execution_count": 73,
      "metadata": {
        "colab": {
          "base_uri": "https://localhost:8080/"
        },
        "id": "MkTpBPztMqS4",
        "outputId": "0ea8c486-f4bb-407d-ac5a-b1fe2372d7ad"
      },
      "outputs": [
        {
          "output_type": "stream",
          "name": "stderr",
          "text": [
            "[nltk_data] Downloading package stopwords to /root/nltk_data...\n",
            "[nltk_data]   Package stopwords is already up-to-date!\n"
          ]
        },
        {
          "output_type": "execute_result",
          "data": {
            "text/plain": [
              "True"
            ]
          },
          "metadata": {},
          "execution_count": 73
        }
      ],
      "source": [
        "# Data manipulation\n",
        "import pandas as pd\n",
        "import numpy as np\n",
        "\n",
        "# Data visualization\n",
        "import matplotlib.pyplot as plt\n",
        "import seaborn as sns\n",
        "\n",
        "# Text processing\n",
        "import re\n",
        "import nltk\n",
        "from nltk.corpus import stopwords\n",
        "from nltk.stem.porter import PorterStemmer\n",
        "\n",
        "# Feature extraction\n",
        "from sklearn.feature_extraction.text import TfidfVectorizer\n",
        "\n",
        "# Model selection and evaluation\n",
        "from sklearn.model_selection import train_test_split, GridSearchCV\n",
        "from sklearn.metrics import accuracy_score, classification_report, confusion_matrix\n",
        "from sklearn.preprocessing import StandardScaler\n",
        "from sklearn.utils.class_weight import compute_class_weight\n",
        "from sklearn.preprocessing import MinMaxScaler\n",
        "\n",
        "\n",
        "# Machine learning models\n",
        "from sklearn.naive_bayes import MultinomialNB\n",
        "\n",
        "# Sentiment analysis\n",
        "from textblob import TextBlob\n",
        "\n",
        "# Parallel processing\n",
        "from joblib import Parallel, delayed\n",
        "import multiprocessing\n",
        "\n",
        "from scipy.sparse import hstack\n",
        "from scipy import sparse\n",
        "\n",
        "# Saving and loading models and data\n",
        "import pickle\n",
        "import os\n",
        "\n",
        "# Ignore warnings\n",
        "import warnings\n",
        "warnings.filterwarnings('ignore')\n",
        "\n",
        "# NLTK downloads\n",
        "nltk.download('stopwords')\n"
      ]
    },
    {
      "cell_type": "code",
      "source": [
        "train_full = pd.read_csv('train.csv')\n",
        "test_full = pd.read_csv('test.csv')\n",
        "\n",
        "print(f\"Full training data shape: {train_full.shape}\")\n",
        "print(f\"Test data shape: {test_full.shape}\")\n",
        "\n",
        "# Remove rows with missing 'Score' in the full training data\n",
        "train_full_notna = train_full.dropna(subset=['Score']).reset_index(drop=True)\n",
        "\n",
        "print(f\"Full training data shape after removing missing 'Score': {train_full_notna.shape}\")\n",
        "\n",
        "# Sample 10,000 reviews from the filtered training data\n",
        "train = train_full_notna.sample(n=10000, random_state=42).reset_index(drop=True)\n",
        "\n",
        "print(f\"Sampled training data shape: {train.shape}\")\n",
        "\n"
      ],
      "metadata": {
        "colab": {
          "base_uri": "https://localhost:8080/"
        },
        "id": "4wEblWtpX6KS",
        "outputId": "082a8020-0cca-4784-b664-ab4a6e0b4534"
      },
      "execution_count": 74,
      "outputs": [
        {
          "output_type": "stream",
          "name": "stdout",
          "text": [
            "Full training data shape: (1697533, 9)\n",
            "Test data shape: (212192, 2)\n",
            "Full training data shape after removing missing 'Score': (1485341, 9)\n",
            "Sampled training data shape: (10000, 9)\n"
          ]
        }
      ]
    },
    {
      "cell_type": "code",
      "source": [
        "# Display first few rows of the sampled training set\n",
        "train.head()\n",
        "# Information about the sampled training data\n",
        "train.info()\n",
        "# Statistical summary of numerical features\n",
        "train.describe()\n",
        "# Distribution of the target variable 'Score'\n",
        "train['Score'].value_counts().sort_index().plot(kind='bar', figsize=(8,6))\n",
        "plt.xlabel('Star Rating')\n",
        "plt.ylabel('Frequency')\n",
        "plt.title('Distribution of Star Ratings in Sampled Data')\n",
        "plt.show()\n",
        "\n"
      ],
      "metadata": {
        "colab": {
          "base_uri": "https://localhost:8080/",
          "height": 858
        },
        "id": "t5gnPqpIX85W",
        "outputId": "763ffdbb-0424-4a6a-ccdd-d944dab16775"
      },
      "execution_count": 75,
      "outputs": [
        {
          "output_type": "stream",
          "name": "stdout",
          "text": [
            "<class 'pandas.core.frame.DataFrame'>\n",
            "RangeIndex: 10000 entries, 0 to 9999\n",
            "Data columns (total 9 columns):\n",
            " #   Column                  Non-Null Count  Dtype  \n",
            "---  ------                  --------------  -----  \n",
            " 0   Id                      10000 non-null  int64  \n",
            " 1   ProductId               10000 non-null  object \n",
            " 2   UserId                  10000 non-null  object \n",
            " 3   HelpfulnessNumerator    10000 non-null  int64  \n",
            " 4   HelpfulnessDenominator  10000 non-null  int64  \n",
            " 5   Time                    10000 non-null  int64  \n",
            " 6   Summary                 9999 non-null   object \n",
            " 7   Text                    9999 non-null   object \n",
            " 8   Score                   10000 non-null  float64\n",
            "dtypes: float64(1), int64(4), object(4)\n",
            "memory usage: 703.2+ KB\n"
          ]
        },
        {
          "output_type": "display_data",
          "data": {
            "text/plain": [
              "<Figure size 800x600 with 1 Axes>"
            ],
            "image/png": "[encoded data removed]"
          },
          "metadata": {}
        }
      ]
    },
    {
      "cell_type": "code",
      "source": [
        "if os.path.exists('train_sample_processed.pkl'):\n",
        "    print(\"Loading preprocessed sampled training data...\")\n",
        "    with open('train_sample_processed.pkl', 'rb') as file:\n",
        "        train = pickle.load(file)\n",
        "else:\n",
        "    print(\"Preprocessing sampled training data...\")\n",
        "    # Fill missing values in 'HelpfulnessNumerator' and 'HelpfulnessDenominator' with 0\n",
        "    train['HelpfulnessNumerator'] = train['HelpfulnessNumerator'].fillna(0)\n",
        "    train['HelpfulnessDenominator'] = train['HelpfulnessDenominator'].fillna(0)\n",
        "\n",
        "    # Drop rows where 'Summary' or 'Text' is missing\n",
        "    train = train.dropna(subset=['Summary', 'Text'])\n",
        "\n",
        "    # Create 'HelpfulnessRatio' feature\n",
        "    train['HelpfulnessRatio'] = train['HelpfulnessNumerator'] / train['HelpfulnessDenominator']\n",
        "    train['HelpfulnessRatio'] = train['HelpfulnessRatio'].replace([np.inf, -np.inf], 0)\n",
        "    train['HelpfulnessRatio'] = train['HelpfulnessRatio'].fillna(0)\n",
        "\n",
        "    # Calculate lengths of 'Summary' and 'Text'\n",
        "    train['SummaryLength'] = train['Summary'].apply(len)\n",
        "    train['TextLength'] = train['Text'].apply(len)\n",
        "\n",
        "    # Convert 'Time' to datetime and extract components\n",
        "    train['ReviewTime'] = pd.to_datetime(train['Time'], unit='s')\n",
        "    train['ReviewYear'] = train['ReviewTime'].dt.year\n",
        "    train['ReviewMonth'] = train['ReviewTime'].dt.month\n",
        "    train['ReviewDay'] = train['ReviewTime'].dt.day\n",
        "\n",
        "    # Function to calculate sentiment polarity\n",
        "    def get_sentiment(text):\n",
        "        return TextBlob(text).sentiment.polarity\n",
        "\n",
        "    # Since sentiment analysis is time-consuming, we can use parallel processing\n",
        "    num_cores = multiprocessing.cpu_count()\n",
        "\n",
        "    # Calculate sentiment scores in parallel\n",
        "    train['SummarySentiment'] = Parallel(n_jobs=num_cores)(\n",
        "        delayed(get_sentiment)(text) for text in train['Summary']\n",
        "    )\n",
        "    train['TextSentiment'] = Parallel(n_jobs=num_cores)(\n",
        "        delayed(get_sentiment)(text) for text in train['Text']\n",
        "    )\n",
        "\n",
        "    # Save the processed DataFrame\n",
        "    with open('train_sample_processed.pkl', 'wb') as file:\n",
        "        pickle.dump(train, file)\n",
        "    print(\"Sampled training data preprocessed and saved.\")\n"
      ],
      "metadata": {
        "colab": {
          "base_uri": "https://localhost:8080/"
        },
        "id": "VmiWqb1iYEUZ",
        "outputId": "83490e96-1c3f-4275-f841-1f87689afb98"
      },
      "execution_count": 76,
      "outputs": [
        {
          "output_type": "stream",
          "name": "stdout",
          "text": [
            "Loading preprocessed sampled training data...\n"
          ]
        }
      ]
    },
    {
      "cell_type": "code",
      "source": [
        "if os.path.exists('cleaned_text_sample.pkl'):\n",
        "    print(\"Loading cleaned text data for sampled training data...\")\n",
        "    with open('cleaned_text_sample.pkl', 'rb') as file:\n",
        "        cleaned_summary, cleaned_text = pickle.load(file)\n",
        "    train['CleanedSummary'] = cleaned_summary\n",
        "    train['CleanedText'] = cleaned_text\n",
        "else:\n",
        "    print(\"Cleaning text data for sampled training data...\")\n",
        "    # Initialize PorterStemmer and compile regex\n",
        "    ps = PorterStemmer()\n",
        "    stop_words = set(stopwords.words('english'))\n",
        "    regex = re.compile('[^a-zA-Z]')\n",
        "\n",
        "    # Function to clean text\n",
        "    def clean_text(text):\n",
        "        text = text.lower()\n",
        "        text = regex.sub(' ', text)\n",
        "        words = text.split()\n",
        "        words = [ps.stem(word) for word in words if word not in stop_words]\n",
        "        return ' '.join(words)\n",
        "\n",
        "    # Clean 'Summary' and 'Text' in parallel\n",
        "    num_cores = multiprocessing.cpu_count()\n",
        "    train['CleanedSummary'] = Parallel(n_jobs=num_cores)(\n",
        "        delayed(clean_text)(text) for text in train['Summary']\n",
        "    )\n",
        "    train['CleanedText'] = Parallel(n_jobs=num_cores)(\n",
        "        delayed(clean_text)(text) for text in train['Text']\n",
        "    )\n",
        "\n",
        "    # Save the cleaned text data\n",
        "    with open('cleaned_text_sample.pkl', 'wb') as file:\n",
        "        pickle.dump((train['CleanedSummary'], train['CleanedText']), file)\n",
        "    print(\"Cleaned text data for sampled training data saved.\")\n"
      ],
      "metadata": {
        "id": "61iCe12dYJUi",
        "colab": {
          "base_uri": "https://localhost:8080/"
        },
        "outputId": "c182b09c-f6d0-4e78-fb29-36c9529072c0"
      },
      "execution_count": 77,
      "outputs": [
        {
          "output_type": "stream",
          "name": "stdout",
          "text": [
            "Loading cleaned text data for sampled training data...\n"
          ]
        }
      ]
    },
    {
      "cell_type": "code",
      "source": [
        "if os.path.exists('tfidf_features_sample.pkl') and os.path.exists('tfidf_vectorizer_sample.pkl'):\n",
        "    print(\"Loading TF-IDF features and vectorizer for sampled training data...\")\n",
        "    with open('tfidf_features_sample.pkl', 'rb') as file:\n",
        "        X_text = pickle.load(file)\n",
        "    with open('tfidf_vectorizer_sample.pkl', 'rb') as file:\n",
        "        tfidf_vectorizer = pickle.load(file)\n",
        "else:\n",
        "    print(\"Extracting TF-IDF features for sampled training data...\")\n",
        "    # Combine 'CleanedSummary' and 'CleanedText'\n",
        "    train['CombinedText'] = train['CleanedSummary'] + ' ' + train['CleanedText']\n",
        "\n",
        "    # Initialize TF-IDF Vectorizer\n",
        "    tfidf_vectorizer = TfidfVectorizer(max_features=5000)\n",
        "\n",
        "    # Fit and transform the combined text\n",
        "    X_text = tfidf_vectorizer.fit_transform(train['CombinedText'])\n",
        "    X_text = X_text.toarray()  # Convert to array if necessary\n",
        "\n",
        "    # Save the TF-IDF features and vectorizer\n",
        "    with open('tfidf_features_sample.pkl', 'wb') as file:\n",
        "        pickle.dump(X_text, file)\n",
        "    with open('tfidf_vectorizer_sample.pkl', 'wb') as file:\n",
        "        pickle.dump(tfidf_vectorizer, file)\n",
        "    print(\"TF-IDF features for sampled training data extracted and saved.\")\n"
      ],
      "metadata": {
        "id": "0rXsHTc8YMyz",
        "colab": {
          "base_uri": "https://localhost:8080/"
        },
        "outputId": "ae64fcb3-8877-4235-e7f0-6244ef5817fe"
      },
      "execution_count": 78,
      "outputs": [
        {
          "output_type": "stream",
          "name": "stdout",
          "text": [
            "Loading TF-IDF features and vectorizer for sampled training data...\n"
          ]
        }
      ]
    },
    {
      "cell_type": "code",
      "source": [
        "# List of numerical features to include\n",
        "numerical_features = ['HelpfulnessNumerator', 'HelpfulnessDenominator', 'HelpfulnessRatio',\n",
        "                      'SummaryLength', 'TextLength', 'SummarySentiment', 'TextSentiment',\n",
        "                      'ReviewYear', 'ReviewMonth', 'ReviewDay']\n",
        "\n",
        "# Extract numerical features\n",
        "X_numeric = train[numerical_features].values\n",
        "\n",
        "scaler = MinMaxScaler()\n",
        "\n",
        "# Fit and transform numerical features\n",
        "X_numeric_scaled = scaler.fit_transform(X_numeric)\n",
        "\n",
        "# Save the scaler for later use\n",
        "with open('scaler_sample.pkl', 'wb') as file:\n",
        "    pickle.dump(scaler, file)\n",
        "\n",
        "# Combine scaled numerical features with text features\n",
        "X = np.hstack((X_numeric_scaled, X_text))\n",
        "\n",
        "# Extract target variable\n",
        "y = train['Score'].values\n",
        "print(f\"Number of missing values in 'y': {np.isnan(y).sum()}\")\n"
      ],
      "metadata": {
        "id": "YxszD-61YQMY",
        "colab": {
          "base_uri": "https://localhost:8080/"
        },
        "outputId": "eebbf139-3253-4077-f56c-c9b5fb13f70a"
      },
      "execution_count": 79,
      "outputs": [
        {
          "output_type": "stream",
          "name": "stdout",
          "text": [
            "Number of missing values in 'y': 0\n"
          ]
        }
      ]
    },
    {
      "cell_type": "code",
      "source": [
        "# Compute class weights\n",
        "class_weights = compute_class_weight(class_weight='balanced', classes=np.unique(y), y=y)\n",
        "class_weight_dict = dict(zip(np.unique(y), class_weights))\n",
        "print(\"Class Weights:\", class_weight_dict)\n",
        "\n",
        "# Split the data into training and validation sets\n",
        "X_train, X_val, y_train, y_val = train_test_split(\n",
        "    X, y, test_size=0.2, random_state=42, stratify=y\n",
        ")\n",
        "# Initialize Multinomial Naive Bayes model\n",
        "nb_model = MultinomialNB()\n",
        "# Define parameter grid for GridSearchCV\n",
        "param_grid = {'alpha': [0.1, 0.5, 1.0]}\n",
        "\n",
        "# Initialize GridSearchCV with parallel processing\n",
        "grid_search = GridSearchCV(nb_model, param_grid, cv=3, scoring='accuracy', n_jobs=-1)\n",
        "\n",
        "# Fit the model\n",
        "grid_search.fit(X_train, y_train)\n",
        "\n",
        "# Best parameters and estimator\n",
        "print(f\"Best Parameters: {grid_search.best_params_}\")\n",
        "nb_model = grid_search.best_estimator_\n",
        "\n",
        "# Save the trained model\n",
        "with open('nb_model_sample.pkl', 'wb') as file:\n",
        "    pickle.dump(nb_model, file)\n"
      ],
      "metadata": {
        "id": "5IA41dxdYZ2X",
        "colab": {
          "base_uri": "https://localhost:8080/"
        },
        "outputId": "26ff1ac2-374a-4061-89ed-28635af2c639"
      },
      "execution_count": 80,
      "outputs": [
        {
          "output_type": "stream",
          "name": "stdout",
          "text": [
            "Class Weights: {1.0: 3.3271214642262894, 2.0: 3.2942339373970344, 3.0: 1.7003401360544217, 4.0: 0.8930772666368915, 5.0: 0.37201860465116277}\n",
            "Best Parameters: {'alpha': 0.1}\n"
          ]
        }
      ]
    },
    {
      "cell_type": "code",
      "source": [
        "# Predict on validation set\n",
        "y_pred = nb_model.predict(X_val)\n",
        "# Calculate accuracy\n",
        "accuracy = accuracy_score(y_val, y_pred)\n",
        "print(f\"Validation Accuracy: {accuracy}\")\n",
        "# Classification report\n",
        "print(\"Classification Report:\")\n",
        "print(classification_report(y_val, y_pred))\n",
        "\n",
        "# Confusion matrix\n",
        "cm = confusion_matrix(y_val, y_pred)\n",
        "\n",
        "# Plot confusion matrix\n",
        "plt.figure(figsize=(8,6))\n",
        "sns.heatmap(cm, annot=True, fmt='d', cmap='Blues', xticklabels=np.unique(y), yticklabels=np.unique(y))\n",
        "plt.xlabel('Predicted')\n",
        "plt.ylabel('Actual')\n",
        "plt.title('Confusion Matrix')\n",
        "plt.show()\n",
        "\n",
        "test = test_full[['Id']].merge(train_full, on='Id', how='left')\n"
      ],
      "metadata": {
        "id": "VrVHu66SYf5B",
        "colab": {
          "base_uri": "https://localhost:8080/",
          "height": 814
        },
        "outputId": "703bbc3d-d573-4acf-b876-a69e78c2e8f0"
      },
      "execution_count": 81,
      "outputs": [
        {
          "output_type": "stream",
          "name": "stdout",
          "text": [
            "Validation Accuracy: 0.566\n",
            "Classification Report:\n",
            "              precision    recall  f1-score   support\n",
            "\n",
            "         1.0       0.74      0.22      0.34       120\n",
            "         2.0       0.50      0.02      0.05       122\n",
            "         3.0       0.41      0.11      0.17       235\n",
            "         4.0       0.33      0.20      0.25       448\n",
            "         5.0       0.61      0.92      0.73      1075\n",
            "\n",
            "    accuracy                           0.57      2000\n",
            "   macro avg       0.52      0.29      0.31      2000\n",
            "weighted avg       0.52      0.57      0.49      2000\n",
            "\n"
          ]
        },
        {
          "output_type": "display_data",
          "data": {
            "text/plain": [
              "<Figure size 800x600 with 2 Axes>"
            ],
            "image/png": "[encoded data removed]"
          },
          "metadata": {}
        }
      ]
    },
    {
      "cell_type": "code",
      "source": [
        "# Ensure that the required columns exist\n",
        "required_columns = ['HelpfulnessNumerator', 'HelpfulnessDenominator', 'Summary', 'Text', 'Time']\n",
        "\n",
        "missing_columns = [col for col in required_columns if col not in test.columns]\n",
        "if missing_columns:\n",
        "    print(f\"The following columns are missing in the test set: {missing_columns}\")\n",
        "    # Handle missing columns appropriately (e.g., raise an error or handle as needed)\n",
        "else:\n",
        "    print(\"All required columns are present in the test set.\")\n",
        "# Fill missing values in 'HelpfulnessNumerator' and 'HelpfulnessDenominator'\n",
        "test['HelpfulnessNumerator'] = test['HelpfulnessNumerator'].fillna(0)\n",
        "test['HelpfulnessDenominator'] = test['HelpfulnessDenominator'].fillna(0)\n",
        "\n",
        "test['Summary'] = test['Summary'].fillna('')\n",
        "test['Text'] = test['Text'].fillna('')\n",
        "\n",
        "# Create 'HelpfulnessRatio'\n",
        "test['HelpfulnessRatio'] = test['HelpfulnessNumerator'] / test['HelpfulnessDenominator']\n",
        "test['HelpfulnessRatio'] = test['HelpfulnessRatio'].replace([np.inf, -np.inf], 0)\n",
        "test['HelpfulnessRatio'] = test['HelpfulnessRatio'].fillna(0)\n",
        "\n",
        "# Calculate lengths of 'Summary' and 'Text'\n",
        "test['SummaryLength'] = test['Summary'].apply(len)\n",
        "test['TextLength'] = test['Text'].apply(len)\n",
        "\n",
        "# Convert 'Time' to datetime and extract components\n",
        "test['ReviewTime'] = pd.to_datetime(test['Time'], unit='s')\n",
        "test['ReviewYear'] = test['ReviewTime'].dt.year\n",
        "test['ReviewMonth'] = test['ReviewTime'].dt.month\n",
        "test['ReviewDay'] = test['ReviewTime'].dt.day\n",
        "\n",
        "# Function to calculate sentiment polarity (ensure it's defined)\n",
        "def get_sentiment(text):\n",
        "    return TextBlob(text).sentiment.polarity\n",
        "\n",
        "# Calculate sentiment scores\n",
        "num_cores = multiprocessing.cpu_count()\n",
        "test['SummarySentiment'] = Parallel(n_jobs=num_cores)(\n",
        "    delayed(get_sentiment)(text) for text in test['Summary']\n",
        ")\n",
        "test['TextSentiment'] = Parallel(n_jobs=num_cores)(\n",
        "    delayed(get_sentiment)(text) for text in test['Text']\n",
        ")\n",
        "\n",
        "# Clean text data (ensure 'clean_text' function is defined)\n",
        "test['CleanedSummary'] = Parallel(n_jobs=num_cores)(\n",
        "    delayed(clean_text)(text) for text in test['Summary']\n",
        ")\n",
        "test['CleanedText'] = Parallel(n_jobs=num_cores)(\n",
        "    delayed(clean_text)(text) for text in test['Text']\n",
        ")\n",
        "\n",
        "# Combine cleaned text\n",
        "test['CombinedText'] = test['CleanedSummary'] + ' ' + test['CleanedText']\n",
        "# List of numerical features to include\n",
        "numerical_features = [\n",
        "    'HelpfulnessNumerator', 'HelpfulnessDenominator', 'HelpfulnessRatio',\n",
        "    'SummaryLength', 'TextLength', 'SummarySentiment', 'TextSentiment',\n",
        "    'ReviewYear', 'ReviewMonth', 'ReviewDay'\n",
        "]\n",
        "\n",
        "# Extract numerical features\n",
        "X_test_numeric = test[numerical_features].values\n",
        "\n",
        "# Load the scaler and transform numerical features\n",
        "with open('scaler_sample.pkl', 'rb') as file:\n",
        "    scaler = pickle.load(file)\n",
        "X_test_numeric_scaled = scaler.transform(X_test_numeric)\n",
        "\n",
        "# Load the TF-IDF vectorizer and transform text data\n",
        "with open('tfidf_vectorizer_sample.pkl', 'rb') as file:\n",
        "    tfidf_vectorizer = pickle.load(file)\n",
        "X_test_text = tfidf_vectorizer.transform(test['CombinedText'])\n",
        "\n",
        "# Combine numerical and text features\n",
        "X_test_numeric_scaled_sparse = sparse.csr_matrix(X_test_numeric_scaled)\n",
        "X_test = hstack((X_test_numeric_scaled_sparse, X_test_text))\n"
      ],
      "metadata": {
        "id": "qOT-j7ipYoeb",
        "colab": {
          "base_uri": "https://localhost:8080/"
        },
        "outputId": "ec492f03-8205-4e82-a5f8-6e32a65b7fb6"
      },
      "execution_count": 83,
      "outputs": [
        {
          "output_type": "stream",
          "name": "stdout",
          "text": [
            "All required columns are present in the test set.\n"
          ]
        }
      ]
    },
    {
      "cell_type": "code",
      "source": [
        "# Load the trained model\n",
        "with open('nb_model_sample.pkl', 'rb') as file:\n",
        "    nb_model = pickle.load(file)\n",
        "\n",
        "# Predict on test set\n",
        "test_predictions = nb_model.predict(X_test)\n",
        "# Prepare submission dataframe\n",
        "submission = pd.DataFrame({'Id': test['Id'], 'Score': test_predictions})\n",
        "\n",
        "# Save to CSV\n",
        "submission.to_csv('submission_sample.csv', index=False)\n",
        "\n",
        "# Display first few rows of the submission file\n",
        "submission.head()\n"
      ],
      "metadata": {
        "id": "vWqQyCh1YutQ",
        "colab": {
          "base_uri": "https://localhost:8080/",
          "height": 206
        },
        "outputId": "0ee18bd1-9e8a-4860-a0ec-06c29b9ce134"
      },
      "execution_count": 84,
      "outputs": [
        {
          "output_type": "execute_result",
          "data": {
            "text/plain": [
              "        Id  Score\n",
              "0  1323432    5.0\n",
              "1  1137299    5.0\n",
              "2  1459366    5.0\n",
              "3   931601    5.0\n",
              "4  1311995    5.0"
            ],
            "text/html": [
              "\n",
              "  <div id=\"df-35ad2244-0e6b-4155-ac7d-6b5dcfd6f15b\" class=\"colab-df-container\">\n",
              "    <div>\n",
              "<style scoped>\n",
              "    .dataframe tbody tr th:only-of-type {\n",
              "        vertical-align: middle;\n",
              "    }\n",
              "\n",
              "    .dataframe tbody tr th {\n",
              "        vertical-align: top;\n",
              "    }\n",
              "\n",
              "    .dataframe thead th {\n",
              "        text-align: right;\n",
              "    }\n",
              "</style>\n",
              "<table border=\"1\" class=\"dataframe\">\n",
              "  <thead>\n",
              "    <tr style=\"text-align: right;\">\n",
              "      <th></th>\n",
              "      <th>Id</th>\n",
              "      <th>Score</th>\n",
              "    </tr>\n",
              "  </thead>\n",
              "  <tbody>\n",
              "    <tr>\n",
              "      <th>0</th>\n",
              "      <td>1323432</td>\n",
              "      <td>5.0</td>\n",
              "    </tr>\n",
              "    <tr>\n",
              "      <th>1</th>\n",
              "      <td>1137299</td>\n",
              "      <td>5.0</td>\n",
              "    </tr>\n",
              "    <tr>\n",
              "      <th>2</th>\n",
              "      <td>1459366</td>\n",
              "      <td>5.0</td>\n",
              "    </tr>\n",
              "    <tr>\n",
              "      <th>3</th>\n",
              "      <td>931601</td>\n",
              "      <td>5.0</td>\n",
              "    </tr>\n",
              "    <tr>\n",
              "      <th>4</th>\n",
              "      <td>1311995</td>\n",
              "      <td>5.0</td>\n",
              "    </tr>\n",
              "  </tbody>\n",
              "</table>\n",
              "</div>\n",
              "    <div class=\"colab-df-buttons\">\n",
              "\n",
              "  <div class=\"colab-df-container\">\n",
              "    <button class=\"colab-df-convert\" onclick=\"convertToInteractive('df-35ad2244-0e6b-4155-ac7d-6b5dcfd6f15b')\"\n",
              "            title=\"Convert this dataframe to an interactive table.\"\n",
              "            style=\"display:none;\">\n",
              "\n",
              "  <svg xmlns=\"http://www.w3.org/2000/svg\" height=\"24px\" viewBox=\"0 -960 960 960\">\n",
              "    <path d=\"M120-120v-720h720v720H120Zm60-500h600v-160H180v160Zm220 220h160v-160H400v160Zm0 220h160v-160H400v160ZM180-400h160v-160H180v160Zm440 0h160v-160H620v160ZM180-180h160v-160H180v160Zm440 0h160v-160H620v160Z\"/>\n",
              "  </svg>\n",
              "    </button>\n",
              "\n",
              "  <style>\n",
              "    .colab-df-container {\n",
              "      display:flex;\n",
              "      gap: 12px;\n",
              "    }\n",
              "\n",
              "    .colab-df-convert {\n",
              "      background-color: #E8F0FE;\n",
              "      border: none;\n",
              "      border-radius: 50%;\n",
              "      cursor: pointer;\n",
              "      display: none;\n",
              "      fill: #1967D2;\n",
              "      height: 32px;\n",
              "      padding: 0 0 0 0;\n",
              "      width: 32px;\n",
              "    }\n",
              "\n",
              "    .colab-df-convert:hover {\n",
              "      background-color: #E2EBFA;\n",
              "      box-shadow: 0px 1px 2px rgba(60, 64, 67, 0.3), 0px 1px 3px 1px rgba(60, 64, 67, 0.15);\n",
              "      fill: #174EA6;\n",
              "    }\n",
              "\n",
              "    .colab-df-buttons div {\n",
              "      margin-bottom: 4px;\n",
              "    }\n",
              "\n",
              "    [theme=dark] .colab-df-convert {\n",
              "      background-color: #3B4455;\n",
              "      fill: #D2E3FC;\n",
              "    }\n",
              "\n",
              "    [theme=dark] .colab-df-convert:hover {\n",
              "      background-color: #434B5C;\n",
              "      box-shadow: 0px 1px 3px 1px rgba(0, 0, 0, 0.15);\n",
              "      filter: drop-shadow(0px 1px 2px rgba(0, 0, 0, 0.3));\n",
              "      fill: #FFFFFF;\n",
              "    }\n",
              "  </style>\n",
              "\n",
              "    <script>\n",
              "      const buttonEl =\n",
              "        document.querySelector('#df-35ad2244-0e6b-4155-ac7d-6b5dcfd6f15b button.colab-df-convert');\n",
              "      buttonEl.style.display =\n",
              "        google.colab.kernel.accessAllowed ? 'block' : 'none';\n",
              "\n",
              "      async function convertToInteractive(key) {\n",
              "        const element = document.querySelector('#df-35ad2244-0e6b-4155-ac7d-6b5dcfd6f15b');\n",
              "        const dataTable =\n",
              "          await google.colab.kernel.invokeFunction('convertToInteractive',\n",
              "                                                    [key], {});\n",
              "        if (!dataTable) return;\n",
              "\n",
              "        const docLinkHtml = 'Like what you see? Visit the ' +\n",
              "          '<a target=\"_blank\" href=https://colab.research.google.com/notebooks/data_table.ipynb>data table notebook</a>'\n",
              "          + ' to learn more about interactive tables.';\n",
              "        element.innerHTML = '';\n",
              "        dataTable['output_type'] = 'display_data';\n",
              "        await google.colab.output.renderOutput(dataTable, element);\n",
              "        const docLink = document.createElement('div');\n",
              "        docLink.innerHTML = docLinkHtml;\n",
              "        element.appendChild(docLink);\n",
              "      }\n",
              "    </script>\n",
              "  </div>\n",
              "\n",
              "\n",
              "<div id=\"df-2e4c704b-f6e4-4d6e-90f8-fc780e98743f\">\n",
              "  <button class=\"colab-df-quickchart\" onclick=\"quickchart('df-2e4c704b-f6e4-4d6e-90f8-fc780e98743f')\"\n",
              "            title=\"Suggest charts\"\n",
              "            style=\"display:none;\">\n",
              "\n",
              "<svg xmlns=\"http://www.w3.org/2000/svg\" height=\"24px\"viewBox=\"0 0 24 24\"\n",
              "     width=\"24px\">\n",
              "    <g>\n",
              "        <path d=\"M19 3H5c-1.1 0-2 .9-2 2v14c0 1.1.9 2 2 2h14c1.1 0 2-.9 2-2V5c0-1.1-.9-2-2-2zM9 17H7v-7h2v7zm4 0h-2V7h2v10zm4 0h-2v-4h2v4z\"/>\n",
              "    </g>\n",
              "</svg>\n",
              "  </button>\n",
              "\n",
              "<style>\n",
              "  .colab-df-quickchart {\n",
              "      --bg-color: #E8F0FE;\n",
              "      --fill-color: #1967D2;\n",
              "      --hover-bg-color: #E2EBFA;\n",
              "      --hover-fill-color: #174EA6;\n",
              "      --disabled-fill-color: #AAA;\n",
              "      --disabled-bg-color: #DDD;\n",
              "  }\n",
              "\n",
              "  [theme=dark] .colab-df-quickchart {\n",
              "      --bg-color: #3B4455;\n",
              "      --fill-color: #D2E3FC;\n",
              "      --hover-bg-color: #434B5C;\n",
              "      --hover-fill-color: #FFFFFF;\n",
              "      --disabled-bg-color: #3B4455;\n",
              "      --disabled-fill-color: #666;\n",
              "  }\n",
              "\n",
              "  .colab-df-quickchart {\n",
              "    background-color: var(--bg-color);\n",
              "    border: none;\n",
              "    border-radius: 50%;\n",
              "    cursor: pointer;\n",
              "    display: none;\n",
              "    fill: var(--fill-color);\n",
              "    height: 32px;\n",
              "    padding: 0;\n",
              "    width: 32px;\n",
              "  }\n",
              "\n",
              "  .colab-df-quickchart:hover {\n",
              "    background-color: var(--hover-bg-color);\n",
              "    box-shadow: 0 1px 2px rgba(60, 64, 67, 0.3), 0 1px 3px 1px rgba(60, 64, 67, 0.15);\n",
              "    fill: var(--button-hover-fill-color);\n",
              "  }\n",
              "\n",
              "  .colab-df-quickchart-complete:disabled,\n",
              "  .colab-df-quickchart-complete:disabled:hover {\n",
              "    background-color: var(--disabled-bg-color);\n",
              "    fill: var(--disabled-fill-color);\n",
              "    box-shadow: none;\n",
              "  }\n",
              "\n",
              "  .colab-df-spinner {\n",
              "    border: 2px solid var(--fill-color);\n",
              "    border-color: transparent;\n",
              "    border-bottom-color: var(--fill-color);\n",
              "    animation:\n",
              "      spin 1s steps(1) infinite;\n",
              "  }\n",
              "\n",
              "  @keyframes spin {\n",
              "    0% {\n",
              "      border-color: transparent;\n",
              "      border-bottom-color: var(--fill-color);\n",
              "      border-left-color: var(--fill-color);\n",
              "    }\n",
              "    20% {\n",
              "      border-color: transparent;\n",
              "      border-left-color: var(--fill-color);\n",
              "      border-top-color: var(--fill-color);\n",
              "    }\n",
              "    30% {\n",
              "      border-color: transparent;\n",
              "      border-left-color: var(--fill-color);\n",
              "      border-top-color: var(--fill-color);\n",
              "      border-right-color: var(--fill-color);\n",
              "    }\n",
              "    40% {\n",
              "      border-color: transparent;\n",
              "      border-right-color: var(--fill-color);\n",
              "      border-top-color: var(--fill-color);\n",
              "    }\n",
              "    60% {\n",
              "      border-color: transparent;\n",
              "      border-right-color: var(--fill-color);\n",
              "    }\n",
              "    80% {\n",
              "      border-color: transparent;\n",
              "      border-right-color: var(--fill-color);\n",
              "      border-bottom-color: var(--fill-color);\n",
              "    }\n",
              "    90% {\n",
              "      border-color: transparent;\n",
              "      border-bottom-color: var(--fill-color);\n",
              "    }\n",
              "  }\n",
              "</style>\n",
              "\n",
              "  <script>\n",
              "    async function quickchart(key) {\n",
              "      const quickchartButtonEl =\n",
              "        document.querySelector('#' + key + ' button');\n",
              "      quickchartButtonEl.disabled = true;  // To prevent multiple clicks.\n",
              "      quickchartButtonEl.classList.add('colab-df-spinner');\n",
              "      try {\n",
              "        const charts = await google.colab.kernel.invokeFunction(\n",
              "            'suggestCharts', [key], {});\n",
              "      } catch (error) {\n",
              "        console.error('Error during call to suggestCharts:', error);\n",
              "      }\n",
              "      quickchartButtonEl.classList.remove('colab-df-spinner');\n",
              "      quickchartButtonEl.classList.add('colab-df-quickchart-complete');\n",
              "    }\n",
              "    (() => {\n",
              "      let quickchartButtonEl =\n",
              "        document.querySelector('#df-2e4c704b-f6e4-4d6e-90f8-fc780e98743f button');\n",
              "      quickchartButtonEl.style.display =\n",
              "        google.colab.kernel.accessAllowed ? 'block' : 'none';\n",
              "    })();\n",
              "  </script>\n",
              "</div>\n",
              "\n",
              "    </div>\n",
              "  </div>\n"
            ],
            "application/vnd.google.colaboratory.intrinsic+json": {
              "type": "dataframe",
              "variable_name": "submission"
            }
          },
          "metadata": {},
          "execution_count": 84
        }
      ]
    }
  ]
}
